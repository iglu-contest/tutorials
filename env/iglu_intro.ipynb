{
  "nbformat": 4,
  "nbformat_minor": 0,
  "metadata": {
    "colab": {
      "name": "iglu-intro.ipynb",
      "provenance": [],
      "collapsed_sections": []
    },
    "kernelspec": {
      "name": "python3",
      "display_name": "Python 3"
    },
    "language_info": {
      "name": "python"
    }
  },
  "cells": [
    {
      "cell_type": "markdown",
      "metadata": {
        "id": "HbQ5Pf9yD8np"
      },
      "source": [
        "## Installation"
      ]
    },
    {
      "cell_type": "markdown",
      "metadata": {
        "id": "MifzqpyMK7RX"
      },
      "source": [
        "First, install java-8 and xvfb for running minerl:"
      ]
    },
    {
      "cell_type": "code",
      "metadata": {
        "id": "ubqo_LLzreWF"
      },
      "source": [
        "!apt-get -qq install openjdk-8-jdk xvfb > /dev/null"
      ],
      "execution_count": null,
      "outputs": []
    },
    {
      "cell_type": "code",
      "metadata": {
        "id": "m7H4fFyvrwio"
      },
      "source": [
        "!update-alternatives --config java"
      ],
      "execution_count": null,
      "outputs": []
    },
    {
      "cell_type": "markdown",
      "metadata": {
        "id": "1omwk9YnKMAR"
      },
      "source": [
        "And make sure you are using Java 8:"
      ]
    },
    {
      "cell_type": "code",
      "metadata": {
        "id": "mdCLmnSLrhRj"
      },
      "source": [
        "!java -version"
      ],
      "execution_count": null,
      "outputs": []
    },
    {
      "cell_type": "markdown",
      "metadata": {
        "id": "YwV1Hxp9KSkv"
      },
      "source": [
        "Install the environment:"
      ]
    },
    {
      "cell_type": "code",
      "metadata": {
        "id": "uVnZJxsarv7S"
      },
      "source": [
        "# takes up to 4 minutes to finish\n",
        "!pip install -q iglu==0.2.2"
      ],
      "execution_count": null,
      "outputs": []
    },
    {
      "cell_type": "markdown",
      "metadata": {
        "id": "73yC9DBkC6uj"
      },
      "source": [
        "For now, just ignore version conflicts above."
      ]
    },
    {
      "cell_type": "code",
      "metadata": {
        "id": "a0A2_zmvsYqU"
      },
      "source": [
        "import gym\n",
        "import iglu"
      ],
      "execution_count": null,
      "outputs": []
    },
    {
      "cell_type": "markdown",
      "metadata": {
        "id": "LNt8VPi7OXu1"
      },
      "source": [
        "The code below should be run ONLY in colab. For the first run, uncomment the first two bash commands. Consecutive runs don't require them."
      ]
    },
    {
      "cell_type": "code",
      "metadata": {
        "id": "Oh01tcQrCUwY"
      },
      "source": [
        "# exec this cell ONLY in colab\n",
        "!wget -q https://raw.githubusercontent.com/iglu-contest/tutorials/main/env/colab_setup.sh -O - | sh > /dev/null 2>&1\n",
        "!pip install -q pyvirtualdisplay\n",
        "from pyvirtualdisplay import Display\n",
        "disp = Display(backend=\"xvnc\", size=(800, 600))\n",
        "disp.start();\n",
        "# for local notebooks instead launch jupyter as: xvfb-run -s \"-screen 0 640x480x24\" jupyter ..."
      ],
      "execution_count": null,
      "outputs": []
    },
    {
      "cell_type": "markdown",
      "metadata": {
        "id": "qwQgv9KcGvMM"
      },
      "source": [
        "Let's create the env and examine the action and observation spaces:"
      ]
    },
    {
      "cell_type": "code",
      "metadata": {
        "id": "4--jFvtktiIh"
      },
      "source": [
        "env = gym.make('IGLUSilentBuilder-v0')"
      ],
      "execution_count": null,
      "outputs": []
    },
    {
      "cell_type": "code",
      "metadata": {
        "id": "EJHiHjt5Nur1"
      },
      "source": [
        "env.action_space"
      ],
      "execution_count": null,
      "outputs": []
    },
    {
      "cell_type": "code",
      "metadata": {
        "id": "aWKd0zW4OCcu"
      },
      "source": [
        "env.observation_space"
      ],
      "execution_count": null,
      "outputs": []
    },
    {
      "cell_type": "code",
      "metadata": {
        "id": "8Gx3wza-ttp0"
      },
      "source": [
        "from tqdm import tqdm\n",
        "import matplotlib.pyplot as plt\n",
        "from IPython.display import clear_output\n",
        "from PIL import Image"
      ],
      "execution_count": null,
      "outputs": []
    },
    {
      "cell_type": "markdown",
      "metadata": {
        "id": "0FPsOxWRG2cZ"
      },
      "source": [
        "At first run, the reset run minecraft and initializes the mission."
      ]
    },
    {
      "cell_type": "code",
      "metadata": {
        "id": "joZ7qYpttv3b"
      },
      "source": [
        "obs = env.reset()"
      ],
      "execution_count": null,
      "outputs": []
    },
    {
      "cell_type": "code",
      "metadata": {
        "id": "lRh732-lMD7j"
      },
      "source": [
        "display(Image.fromarray(obs['pov'], ))"
      ],
      "execution_count": null,
      "outputs": []
    },
    {
      "cell_type": "code",
      "metadata": {
        "id": "GnKHRTvtGMge"
      },
      "source": [
        "total_reward = 0.\n",
        "done = False\n",
        "while not done:\n",
        "  display(Image.fromarray(obs['pov'],).resize((256, 256)), )\n",
        "  action = env.action_space.sample()\n",
        "  # action['camera'][0] *= 0.1\n",
        "  # action['camera'][0] *= 0.3\n",
        "  obs, reward, done, info = env.step(action)\n",
        "  total_reward += reward\n",
        "  clear_output(wait=True)"
      ],
      "execution_count": null,
      "outputs": []
    },
    {
      "cell_type": "code",
      "metadata": {
        "id": "G6fzBfIWXhXi"
      },
      "source": [
        "total_reward"
      ],
      "execution_count": null,
      "outputs": []
    },
    {
      "cell_type": "code",
      "metadata": {
        "id": "4No5YZzqYaGh"
      },
      "source": [
        "obs['grid'].nonzero()"
      ],
      "execution_count": null,
      "outputs": []
    },
    {
      "cell_type": "code",
      "metadata": {
        "id": "Eevv2UMCYb6I"
      },
      "source": [
        "len(obs['grid'].nonzero()[0])"
      ],
      "execution_count": null,
      "outputs": []
    },
    {
      "cell_type": "code",
      "metadata": {
        "id": "GaMFcFmtysjd"
      },
      "source": [
        "obs.keys()"
      ],
      "execution_count": null,
      "outputs": []
    },
    {
      "cell_type": "code",
      "metadata": {
        "id": "y8N48UTiFDZg"
      },
      "source": [
        "plt.imshow(obs['pov'])"
      ],
      "execution_count": null,
      "outputs": []
    },
    {
      "cell_type": "code",
      "metadata": {
        "id": "u6NxNeOwTag2"
      },
      "source": [
        "print(obs['chat'])"
      ],
      "execution_count": null,
      "outputs": []
    },
    {
      "cell_type": "code",
      "metadata": {
        "id": "7pwUESfXFc9J"
      },
      "source": [
        "{k: obs[k].shape for k in ['pov', 'agentPos', 'inventory', 'grid']}"
      ],
      "execution_count": null,
      "outputs": []
    },
    {
      "cell_type": "markdown",
      "metadata": {
        "id": "zeNnw8eGT6Hb"
      },
      "source": [
        "At `'agentPos'` key, there are `x, y, z` coordinates and `pitch, yaw` angles."
      ]
    },
    {
      "cell_type": "code",
      "metadata": {
        "id": "syhmtlFITvIN"
      },
      "source": [
        "obs['agentPos']"
      ],
      "execution_count": null,
      "outputs": []
    },
    {
      "cell_type": "markdown",
      "metadata": {
        "id": "H4_U8E94UE-M"
      },
      "source": [
        "`'inventory'` component "
      ]
    },
    {
      "cell_type": "code",
      "metadata": {
        "id": "qA4tTAnbTxKa"
      },
      "source": [
        "obs['inventory']"
      ],
      "execution_count": null,
      "outputs": []
    },
    {
      "cell_type": "code",
      "metadata": {
        "id": "3_aFEyFGfMaz"
      },
      "source": [
        "info['target_grid'][:2, :4, :4]"
      ],
      "execution_count": null,
      "outputs": []
    },
    {
      "cell_type": "markdown",
      "metadata": {
        "id": "ulvXUIMrQOei"
      },
      "source": [
        "Let's measure the speed:"
      ]
    },
    {
      "cell_type": "code",
      "metadata": {
        "id": "O9wNH6M7QNzt"
      },
      "source": [
        "for ep in range(2):\n",
        "  obs = env.reset()\n",
        "  done = False\n",
        "  with tqdm() as bar:\n",
        "    while not done:\n",
        "      bar.update(1)\n",
        "      action = env.action_space.sample()\n",
        "      obs, reward, done, info = env.step(action)"
      ],
      "execution_count": null,
      "outputs": []
    },
    {
      "cell_type": "markdown",
      "metadata": {
        "id": "VMEYYHrDHFq_"
      },
      "source": [
        "In the competition you are free to choose from three action spaces:"
      ]
    },
    {
      "cell_type": "code",
      "metadata": {
        "id": "QezD4QJeF1BE"
      },
      "source": [
        "gym.make('IGLUSilentBuilder-v0', action_space='discrete').action_space"
      ],
      "execution_count": null,
      "outputs": []
    },
    {
      "cell_type": "code",
      "metadata": {
        "id": "P0Xw6FVXGqa1"
      },
      "source": [
        "gym.make('IGLUSilentBuilder-v0', action_space='continuous').action_space"
      ],
      "execution_count": null,
      "outputs": []
    },
    {
      "cell_type": "code",
      "metadata": {
        "id": "fw_DccSHGvJO"
      },
      "source": [
        "gym.make('IGLUSilentBuilder-v0', action_space='human-level').action_space"
      ],
      "execution_count": null,
      "outputs": []
    },
    {
      "cell_type": "code",
      "metadata": {
        "id": "5B9I7xriNQ_t"
      },
      "source": [
        "env.tasks"
      ],
      "execution_count": null,
      "outputs": []
    },
    {
      "cell_type": "code",
      "metadata": {
        "id": "rril85zVXAb_"
      },
      "source": [
        "obs = env.reset()"
      ],
      "execution_count": null,
      "outputs": []
    },
    {
      "cell_type": "code",
      "metadata": {
        "id": "f9eGb9DBRCiH"
      },
      "source": [
        "env.tasks.current.chat"
      ],
      "execution_count": null,
      "outputs": []
    },
    {
      "cell_type": "code",
      "metadata": {
        "id": "e76-vIUbimhS"
      },
      "source": [
        "from iglu.tasks import TaskSet\n",
        "\n",
        "env.update_taskset(TaskSet(preset=['C1', 'C2', 'C3']))\n",
        "env.tasks"
      ],
      "execution_count": null,
      "outputs": []
    },
    {
      "cell_type": "code",
      "metadata": {
        "id": "dh93oRedgBRT"
      },
      "source": [
        "import numpy as np\n",
        "from iglu.tasks import CustomTasks\n",
        "\n",
        "custom_grid = np.zeros((9, 11, 11)) # (y, x, z)\n",
        "custom_grid[:3, 5, 5] = 1 # blue color\n",
        "env.update_taskset(CustomTasks(\n",
        "[\n",
        "    ('<Architect> Please, build a stack of three blue blocks somewhere.\\n'\n",
        "     '<Builder> Sure.',\n",
        "     custom_grid)\n",
        "]\n",
        "))\n",
        "obs = env.reset()"
      ],
      "execution_count": null,
      "outputs": []
    },
    {
      "cell_type": "code",
      "metadata": {
        "id": "dGaragHBgqtg"
      },
      "source": [
        "print(env.tasks.current.chat)"
      ],
      "execution_count": null,
      "outputs": []
    },
    {
      "cell_type": "code",
      "metadata": {
        "id": "4o7hjD1WW-es"
      },
      "source": [
        "from iglu.tasks import RandomTasks\n",
        "\n",
        "env.update_taskset(RandomTasks(max_blocks=3, max_dist=5, num_colors=3))"
      ],
      "execution_count": null,
      "outputs": []
    },
    {
      "cell_type": "code",
      "metadata": {
        "id": "HWgsfh45e5fZ"
      },
      "source": [
        "env.tasks"
      ],
      "execution_count": null,
      "outputs": []
    },
    {
      "cell_type": "code",
      "metadata": {
        "id": "vJNUIQhBe-Qp"
      },
      "source": [
        "env.tasks.sample().target_grid.nonzero()"
      ],
      "execution_count": null,
      "outputs": []
    },
    {
      "cell_type": "code",
      "metadata": {
        "id": "3LJzP8qVfHNB"
      },
      "source": [
        "env.close()"
      ],
      "execution_count": null,
      "outputs": []
    },
    {
      "cell_type": "code",
      "metadata": {
        "id": "5IAqBU3ix1HZ"
      },
      "source": [
        ""
      ],
      "execution_count": null,
      "outputs": []
    }
  ]
}